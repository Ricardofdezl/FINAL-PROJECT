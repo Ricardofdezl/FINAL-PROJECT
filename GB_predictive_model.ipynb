{
 "cells": [
  {
   "cell_type": "code",
   "execution_count": 3,
   "id": "e8f214a9-0ded-40eb-a16c-7035bc20b41a",
   "metadata": {},
   "outputs": [],
   "source": [
    "import pandas as pd\n",
    "import seaborn as sns\n",
    "import matplotlib.pyplot as plt\n",
    "from sklearn.preprocessing import LabelEncoder"
   ]
  },
  {
   "cell_type": "code",
   "execution_count": 4,
   "id": "1ecc3b2e-aa7a-489d-9c37-de51bffdd9c6",
   "metadata": {},
   "outputs": [],
   "source": [
    "import warnings\n",
    "warnings.filterwarnings(\"ignore\")"
   ]
  },
  {
   "cell_type": "code",
   "execution_count": 5,
   "id": "a4d3cf1a-a18c-4f9d-b7ac-d62b2a53d001",
   "metadata": {
    "scrolled": true
   },
   "outputs": [],
   "source": [
    "data = pd.read_csv(\"brands.csv\")"
   ]
  },
  {
   "cell_type": "code",
   "execution_count": 6,
   "id": "5bd6d274-ed3d-4092-8a5a-100596f109c8",
   "metadata": {},
   "outputs": [
    {
     "data": {
      "image/png": "[encoded data removed]",
      "text/plain": [
       "<Figure size 600x400 with 2 Axes>"
      ]
     },
     "metadata": {},
     "output_type": "display_data"
    }
   ],
   "source": [
    "#Correlation Matrix\n",
    "data_cleaned = data.drop([\"size\", \"category\", \"basic_color\", \"product_id\", \"name\", \"brand\", \"url\", \"description\"], axis=1)\n",
    "data_cleaned[\"promotion\"] = data_cleaned[\"promotion\"].map({'Yes': 1, 'No': 0})\n",
    "\n",
    "data_minimal = data_cleaned[[\"price\", \"promotion\", \"section\"]]\n",
    "\n",
    "le = LabelEncoder()\n",
    "data_minimal[\"section\"] = le.fit_transform(data_minimal[\"section\"])\n",
    "\n",
    "correlation_matrix_minimal = data_minimal.corr()\n",
    "\n",
    "plt.figure(figsize=(6, 4))\n",
    "sns.heatmap(correlation_matrix_minimal, annot=True, cmap=\"coolwarm\", center=0)\n",
    "plt.title(\"Correlation Matrix Heatmap (Minimal Encoding)\")\n",
    "plt.show()"
   ]
  },
  {
   "cell_type": "code",
   "execution_count": 7,
   "id": "874510fa-2af3-4779-a409-7a9bf75ff0bc",
   "metadata": {},
   "outputs": [],
   "source": [
    "# Applying feature scaling to numerical columns\n",
    "from sklearn.preprocessing import StandardScaler\n",
    "\n",
    "scaler = StandardScaler()\n",
    "data_minimal[\"price_scaled\"] = scaler.fit_transform(data_minimal[[\"price\"]])"
   ]
  },
  {
   "cell_type": "code",
   "execution_count": 8,
   "id": "da0030db-62e4-4aa4-8993-efd3029dd1b3",
   "metadata": {},
   "outputs": [],
   "source": [
    "# Train-test split process\n",
    "from sklearn.model_selection import train_test_split\n",
    "\n",
    "features = data_minimal[[\"promotion\", \"section\", \"price_scaled\"]]\n",
    "target = data_minimal[\"price\"]  \n",
    "\n",
    "X_train, X_test, y_train, y_test = train_test_split(features, target, test_size=0.2, random_state=42)"
   ]
  },
  {
   "cell_type": "code",
   "execution_count": 9,
   "id": "dd6ca53b-6ffa-40a6-9b58-c92ba7148e01",
   "metadata": {},
   "outputs": [
    {
     "data": {
      "text/html": [
       "<div>\n",
       "<style scoped>\n",
       "    .dataframe tbody tr th:only-of-type {\n",
       "        vertical-align: middle;\n",
       "    }\n",
       "\n",
       "    .dataframe tbody tr th {\n",
       "        vertical-align: top;\n",
       "    }\n",
       "\n",
       "    .dataframe thead th {\n",
       "        text-align: right;\n",
       "    }\n",
       "</style>\n",
       "<table border=\"1\" class=\"dataframe\">\n",
       "  <thead>\n",
       "    <tr style=\"text-align: right;\">\n",
       "      <th></th>\n",
       "      <th>Model</th>\n",
       "      <th>R² Score</th>\n",
       "      <th>MAE</th>\n",
       "      <th>RMSE</th>\n",
       "    </tr>\n",
       "  </thead>\n",
       "  <tbody>\n",
       "    <tr>\n",
       "      <th>0</th>\n",
       "      <td>Linear Regression</td>\n",
       "      <td>1.0</td>\n",
       "      <td>2.224677e-14</td>\n",
       "      <td>3.468464e-14</td>\n",
       "    </tr>\n",
       "  </tbody>\n",
       "</table>\n",
       "</div>"
      ],
      "text/plain": [
       "               Model  R² Score           MAE          RMSE\n",
       "0  Linear Regression       1.0  2.224677e-14  3.468464e-14"
      ]
     },
     "execution_count": 9,
     "metadata": {},
     "output_type": "execute_result"
    }
   ],
   "source": [
    "# Linear Regression model and evaluation.\n",
    "from sklearn.linear_model import LinearRegression\n",
    "from sklearn.metrics import r2_score, mean_absolute_error, mean_squared_error\n",
    "import numpy as np\n",
    "\n",
    "linear_model = LinearRegression()\n",
    "linear_model.fit(X_train, y_train)\n",
    "y_pred_linear = linear_model.predict(X_test)\n",
    "\n",
    "evaluation_metrics = {\n",
    "    \"Model\": [\"Linear Regression\"],\n",
    "    \"R² Score\": [r2_score(y_test, y_pred_linear)],\n",
    "    \"MAE\": [mean_absolute_error(y_test, y_pred_linear)],\n",
    "    \"RMSE\": [np.sqrt(mean_squared_error(y_test, y_pred_linear))]\n",
    "}\n",
    "\n",
    "evaluation_df = pd.DataFrame(evaluation_metrics)\n",
    "evaluation_df"
   ]
  },
  {
   "cell_type": "code",
   "execution_count": 10,
   "id": "a364c8b6-2e32-4c09-9d05-1ab547c671ef",
   "metadata": {},
   "outputs": [
    {
     "data": {
      "text/html": [
       "<div>\n",
       "<style scoped>\n",
       "    .dataframe tbody tr th:only-of-type {\n",
       "        vertical-align: middle;\n",
       "    }\n",
       "\n",
       "    .dataframe tbody tr th {\n",
       "        vertical-align: top;\n",
       "    }\n",
       "\n",
       "    .dataframe thead th {\n",
       "        text-align: right;\n",
       "    }\n",
       "</style>\n",
       "<table border=\"1\" class=\"dataframe\">\n",
       "  <thead>\n",
       "    <tr style=\"text-align: right;\">\n",
       "      <th></th>\n",
       "      <th>Model</th>\n",
       "      <th>R² Score</th>\n",
       "      <th>MAE</th>\n",
       "      <th>RMSE</th>\n",
       "    </tr>\n",
       "  </thead>\n",
       "  <tbody>\n",
       "    <tr>\n",
       "      <th>0</th>\n",
       "      <td>Decision Tree</td>\n",
       "      <td>0.999906</td>\n",
       "      <td>0.0034</td>\n",
       "      <td>0.305521</td>\n",
       "    </tr>\n",
       "  </tbody>\n",
       "</table>\n",
       "</div>"
      ],
      "text/plain": [
       "           Model  R² Score     MAE      RMSE\n",
       "0  Decision Tree  0.999906  0.0034  0.305521"
      ]
     },
     "execution_count": 10,
     "metadata": {},
     "output_type": "execute_result"
    }
   ],
   "source": [
    "# Decision Trees model.\n",
    "from sklearn.tree import DecisionTreeRegressor\n",
    "\n",
    "tree_model = DecisionTreeRegressor(random_state=0)\n",
    "tree_model.fit(X_train, y_train)\n",
    "y_pred_tree = tree_model.predict(X_test)\n",
    "\n",
    "evaluation_metrics = {\n",
    "    \"Model\": [\"Decision Tree\"],\n",
    "    \"R² Score\": [r2_score(y_test, y_pred_tree)],\n",
    "    \"MAE\": [mean_absolute_error(y_test, y_pred_tree)],\n",
    "    \"RMSE\": [np.sqrt(mean_squared_error(y_test, y_pred_tree))]\n",
    "}\n",
    "\n",
    "evaluation_df = pd.DataFrame(evaluation_metrics)\n",
    "evaluation_df"
   ]
  },
  {
   "cell_type": "code",
   "execution_count": 11,
   "id": "4899335c-bcb4-4510-96e6-b406ada59f8c",
   "metadata": {},
   "outputs": [
    {
     "data": {
      "text/html": [
       "<div>\n",
       "<style scoped>\n",
       "    .dataframe tbody tr th:only-of-type {\n",
       "        vertical-align: middle;\n",
       "    }\n",
       "\n",
       "    .dataframe tbody tr th {\n",
       "        vertical-align: top;\n",
       "    }\n",
       "\n",
       "    .dataframe thead th {\n",
       "        text-align: right;\n",
       "    }\n",
       "</style>\n",
       "<table border=\"1\" class=\"dataframe\">\n",
       "  <thead>\n",
       "    <tr style=\"text-align: right;\">\n",
       "      <th></th>\n",
       "      <th>Model</th>\n",
       "      <th>R² Score</th>\n",
       "      <th>MAE</th>\n",
       "      <th>RMSE</th>\n",
       "    </tr>\n",
       "  </thead>\n",
       "  <tbody>\n",
       "    <tr>\n",
       "      <th>0</th>\n",
       "      <td>Random Forest</td>\n",
       "      <td>0.999806</td>\n",
       "      <td>0.004439</td>\n",
       "      <td>0.439554</td>\n",
       "    </tr>\n",
       "  </tbody>\n",
       "</table>\n",
       "</div>"
      ],
      "text/plain": [
       "           Model  R² Score       MAE      RMSE\n",
       "0  Random Forest  0.999806  0.004439  0.439554"
      ]
     },
     "execution_count": 11,
     "metadata": {},
     "output_type": "execute_result"
    }
   ],
   "source": [
    "# Random Forest\n",
    "from sklearn.ensemble import RandomForestRegressor, GradientBoostingRegressor\n",
    "\n",
    "rf_model = RandomForestRegressor(random_state=0, n_jobs=-1)\n",
    "\n",
    "rf_model.fit(X_train, y_train)\n",
    "\n",
    "y_pred_rf = rf_model.predict(X_test)\n",
    "\n",
    "ensemble_evaluation_metrics = {\n",
    "    \"Model\": [\"Random Forest\"],\n",
    "    \"R² Score\": [r2_score(y_test, y_pred_rf)],\n",
    "    \"MAE\": [mean_absolute_error(y_test, y_pred_rf)],\n",
    "    \"RMSE\": [np.sqrt(mean_squared_error(y_test, y_pred_rf))]\n",
    "}\n",
    "\n",
    "ensemble_evaluation_df = pd.DataFrame(ensemble_evaluation_metrics)\n",
    "ensemble_evaluation_df"
   ]
  },
  {
   "cell_type": "code",
   "execution_count": 12,
   "id": "5f3e523d-5781-45a7-b8f1-6ac4d1fd2c1b",
   "metadata": {},
   "outputs": [
    {
     "data": {
      "text/html": [
       "<div>\n",
       "<style scoped>\n",
       "    .dataframe tbody tr th:only-of-type {\n",
       "        vertical-align: middle;\n",
       "    }\n",
       "\n",
       "    .dataframe tbody tr th {\n",
       "        vertical-align: top;\n",
       "    }\n",
       "\n",
       "    .dataframe thead th {\n",
       "        text-align: right;\n",
       "    }\n",
       "</style>\n",
       "<table border=\"1\" class=\"dataframe\">\n",
       "  <thead>\n",
       "    <tr style=\"text-align: right;\">\n",
       "      <th></th>\n",
       "      <th>Model</th>\n",
       "      <th>R² Score</th>\n",
       "      <th>MAE</th>\n",
       "      <th>RMSE</th>\n",
       "    </tr>\n",
       "  </thead>\n",
       "  <tbody>\n",
       "    <tr>\n",
       "      <th>0</th>\n",
       "      <td>Gradient Boosting</td>\n",
       "      <td>0.999867</td>\n",
       "      <td>0.094741</td>\n",
       "      <td>0.364705</td>\n",
       "    </tr>\n",
       "  </tbody>\n",
       "</table>\n",
       "</div>"
      ],
      "text/plain": [
       "               Model  R² Score       MAE      RMSE\n",
       "0  Gradient Boosting  0.999867  0.094741  0.364705"
      ]
     },
     "execution_count": 12,
     "metadata": {},
     "output_type": "execute_result"
    }
   ],
   "source": [
    "# Gradient Boosting\n",
    "\n",
    "gb_model = GradientBoostingRegressor(random_state=0)\n",
    "gb_model.fit(X_train, y_train)\n",
    "y_pred_gb = gb_model.predict(X_test)\n",
    "\n",
    "ensemble_evaluation_metrics = {\n",
    "    \"Model\": [\"Gradient Boosting\"],\n",
    "    \"R² Score\": [r2_score(y_test, y_pred_gb)],\n",
    "    \"MAE\": [mean_absolute_error(y_test, y_pred_gb)],\n",
    "    \"RMSE\": [np.sqrt(mean_squared_error(y_test, y_pred_gb))]\n",
    "}\n",
    "\n",
    "ensemble_evaluation_df_gradient_Boosting = pd.DataFrame(ensemble_evaluation_metrics)\n",
    "ensemble_evaluation_df_gradient_Boosting"
   ]
  },
  {
   "cell_type": "code",
   "execution_count": 13,
   "id": "fe9d057e-e2b6-4ff3-96a3-d2a6713b6166",
   "metadata": {},
   "outputs": [
    {
     "data": {
      "text/plain": [
       "({'max_depth': None, 'min_samples_split': 2, 'n_estimators': 50},\n",
       " 0.9976105612252254)"
      ]
     },
     "execution_count": 13,
     "metadata": {},
     "output_type": "execute_result"
    }
   ],
   "source": [
    "# Hyperparameter Tuning (GrisSearch) for RandomForest\n",
    "from sklearn.model_selection import GridSearchCV\n",
    "\n",
    "param_rf = {\n",
    "    \"n_estimators\": [50, 100, 200],\n",
    "    \"max_depth\": [None, 10, 20],\n",
    "    \"min_samples_split\": [2, 5, 10]\n",
    "}\n",
    "\n",
    "grid_search_rf = GridSearchCV(rf_model, param_rf, scoring='r2', cv=3, n_jobs=-1)\n",
    "\n",
    "grid_search_rf.fit(X_train, y_train)\n",
    "\n",
    "best_params_rf = grid_search_rf.best_params_\n",
    "best_score_rf = grid_search_rf.best_score_\n",
    "\n",
    "\n",
    "best_params_rf, best_score_rf"
   ]
  },
  {
   "cell_type": "code",
   "execution_count": 14,
   "id": "d9555679-e425-460a-a453-a0dc3939db9c",
   "metadata": {},
   "outputs": [
    {
     "data": {
      "text/plain": [
       "({'learning_rate': 0.1, 'max_depth': 5, 'n_estimators': 200},\n",
       " 0.9978833629220324)"
      ]
     },
     "execution_count": 14,
     "metadata": {},
     "output_type": "execute_result"
    }
   ],
   "source": [
    "# Hyperparameter Tuning (GrisSearch) for GradientBoosting.\n",
    "param_grid_gb = {\n",
    "    'n_estimators': [50, 100, 200],\n",
    "    'learning_rate': [0.01, 0.1, 0.2],\n",
    "    'max_depth': [3, 5, 10]\n",
    "}\n",
    "\n",
    "grid_search_gb = GridSearchCV(gb_model, param_grid_gb, scoring='r2', cv=3, n_jobs=-1)\n",
    "grid_search_gb.fit(X_train, y_train)\n",
    "\n",
    "best_params_gb = grid_search_gb.best_params_\n",
    "best_score_gb = grid_search_gb.best_score_\n",
    "best_params_gb, best_score_gb"
   ]
  },
  {
   "cell_type": "code",
   "execution_count": 18,
   "id": "122964be-72a9-4d87-b662-b8834e377d45",
   "metadata": {},
   "outputs": [],
   "source": [
    "#csv file with best model\n",
    "\n",
    "y_pred_gb_test = grid_search_gb.best_estimator_.predict(X_test)\n",
    "\n",
    "results_df = pd.DataFrame({\n",
    "    'Actual Price': y_test,\n",
    "    'Predicted Price': y_pred_gb_test\n",
    "})\n",
    "\n",
    "results_df.to_csv(\"gradient_boosting_predictions.csv\", index=False)"
   ]
  },
  {
   "cell_type": "code",
   "execution_count": 16,
   "id": "4dd42b52-aa7b-46af-bdb9-694398054d54",
   "metadata": {},
   "outputs": [
    {
     "data": {
      "text/html": [
       "<div>\n",
       "<style scoped>\n",
       "    .dataframe tbody tr th:only-of-type {\n",
       "        vertical-align: middle;\n",
       "    }\n",
       "\n",
       "    .dataframe tbody tr th {\n",
       "        vertical-align: top;\n",
       "    }\n",
       "\n",
       "    .dataframe thead th {\n",
       "        text-align: right;\n",
       "    }\n",
       "</style>\n",
       "<table border=\"1\" class=\"dataframe\">\n",
       "  <thead>\n",
       "    <tr style=\"text-align: right;\">\n",
       "      <th></th>\n",
       "      <th>Actual Price</th>\n",
       "      <th>Predicted Price</th>\n",
       "    </tr>\n",
       "  </thead>\n",
       "  <tbody>\n",
       "    <tr>\n",
       "      <th>40362</th>\n",
       "      <td>42.355932</td>\n",
       "      <td>42.355764</td>\n",
       "    </tr>\n",
       "    <tr>\n",
       "      <th>89697</th>\n",
       "      <td>50.830508</td>\n",
       "      <td>50.830338</td>\n",
       "    </tr>\n",
       "    <tr>\n",
       "      <th>20974</th>\n",
       "      <td>19.500000</td>\n",
       "      <td>19.457917</td>\n",
       "    </tr>\n",
       "    <tr>\n",
       "      <th>62165</th>\n",
       "      <td>25.406780</td>\n",
       "      <td>25.407003</td>\n",
       "    </tr>\n",
       "    <tr>\n",
       "      <th>72921</th>\n",
       "      <td>33.067797</td>\n",
       "      <td>32.996655</td>\n",
       "    </tr>\n",
       "    <tr>\n",
       "      <th>...</th>\n",
       "      <td>...</td>\n",
       "      <td>...</td>\n",
       "    </tr>\n",
       "    <tr>\n",
       "      <th>50264</th>\n",
       "      <td>22.016949</td>\n",
       "      <td>22.017005</td>\n",
       "    </tr>\n",
       "    <tr>\n",
       "      <th>41257</th>\n",
       "      <td>25.406780</td>\n",
       "      <td>25.407211</td>\n",
       "    </tr>\n",
       "    <tr>\n",
       "      <th>35984</th>\n",
       "      <td>84.728814</td>\n",
       "      <td>84.729527</td>\n",
       "    </tr>\n",
       "    <tr>\n",
       "      <th>62800</th>\n",
       "      <td>50.830508</td>\n",
       "      <td>50.830338</td>\n",
       "    </tr>\n",
       "    <tr>\n",
       "      <th>68473</th>\n",
       "      <td>47.830508</td>\n",
       "      <td>47.869651</td>\n",
       "    </tr>\n",
       "  </tbody>\n",
       "</table>\n",
       "<p>20290 rows × 2 columns</p>\n",
       "</div>"
      ],
      "text/plain": [
       "       Actual Price  Predicted Price\n",
       "40362     42.355932        42.355764\n",
       "89697     50.830508        50.830338\n",
       "20974     19.500000        19.457917\n",
       "62165     25.406780        25.407003\n",
       "72921     33.067797        32.996655\n",
       "...             ...              ...\n",
       "50264     22.016949        22.017005\n",
       "41257     25.406780        25.407211\n",
       "35984     84.728814        84.729527\n",
       "62800     50.830508        50.830338\n",
       "68473     47.830508        47.869651\n",
       "\n",
       "[20290 rows x 2 columns]"
      ]
     },
     "execution_count": 16,
     "metadata": {},
     "output_type": "execute_result"
    }
   ],
   "source": [
    "results_df"
   ]
  },
  {
   "cell_type": "code",
   "execution_count": null,
   "id": "565a99aa-a915-4da6-ba54-17ce1310f5e7",
   "metadata": {},
   "outputs": [],
   "source": []
  }
 ],
 "metadata": {
  "kernelspec": {
   "display_name": "Python 3 (ipykernel)",
   "language": "python",
   "name": "python3"
  },
  "language_info": {
   "codemirror_mode": {
    "name": "ipython",
    "version": 3
   },
   "file_extension": ".py",
   "mimetype": "text/x-python",
   "name": "python",
   "nbconvert_exporter": "python",
   "pygments_lexer": "ipython3",
   "version": "3.12.4"
  }
 },
 "nbformat": 4,
 "nbformat_minor": 5
}
